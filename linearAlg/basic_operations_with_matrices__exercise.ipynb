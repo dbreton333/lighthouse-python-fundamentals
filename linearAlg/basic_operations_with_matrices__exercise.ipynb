{
 "cells": [
  {
   "cell_type": "markdown",
   "metadata": {
    "ExecuteTime": {
     "end_time": "2020-01-30T08:49:56.471556Z",
     "start_time": "2020-01-30T08:49:56.467072Z"
    }
   },
   "source": [
    "**TASK:** import numpy"
   ]
  },
  {
   "cell_type": "code",
   "execution_count": 2,
   "metadata": {},
   "outputs": [],
   "source": [
    "import numpy as np"
   ]
  },
  {
   "cell_type": "markdown",
   "metadata": {
    "ExecuteTime": {
     "end_time": "2020-01-30T08:49:56.803505Z",
     "start_time": "2020-01-30T08:49:56.790390Z"
    }
   },
   "source": [
    "**TASK:** define vector 'x' with three coordinates"
   ]
  },
  {
   "cell_type": "code",
   "execution_count": 4,
   "metadata": {},
   "outputs": [],
   "source": [
    "x = np.array([2,4,1])"
   ]
  },
  {
   "cell_type": "markdown",
   "metadata": {
    "ExecuteTime": {
     "end_time": "2020-01-30T08:49:57.155981Z",
     "start_time": "2020-01-30T08:49:57.142948Z"
    }
   },
   "source": [
    "**TASK:** define (2 x 2) matrix 'A' \n"
   ]
  },
  {
   "cell_type": "code",
   "execution_count": 14,
   "metadata": {},
   "outputs": [],
   "source": [
    "A = np.array([[1,2],[3,4]])"
   ]
  },
  {
   "cell_type": "markdown",
   "metadata": {
    "ExecuteTime": {
     "end_time": "2020-01-30T08:49:57.628250Z",
     "start_time": "2020-01-30T08:49:57.618326Z"
    }
   },
   "source": [
    "**TASK:** define (2 x 2) matrix 'B'"
   ]
  },
  {
   "cell_type": "code",
   "execution_count": 15,
   "metadata": {},
   "outputs": [],
   "source": [
    "B = np.array([[1,8],[5,8]])"
   ]
  },
  {
   "cell_type": "markdown",
   "metadata": {
    "ExecuteTime": {
     "end_time": "2020-01-30T08:49:57.644266Z",
     "start_time": "2020-01-30T08:49:57.633733Z"
    }
   },
   "source": [
    "**TASK:** check the type of 'x'"
   ]
  },
  {
   "cell_type": "code",
   "execution_count": 16,
   "metadata": {},
   "outputs": [
    {
     "data": {
      "text/plain": [
       "numpy.ndarray"
      ]
     },
     "execution_count": 16,
     "metadata": {},
     "output_type": "execute_result"
    }
   ],
   "source": [
    "type(x)"
   ]
  },
  {
   "cell_type": "markdown",
   "metadata": {
    "ExecuteTime": {
     "end_time": "2020-01-30T08:49:58.239708Z",
     "start_time": "2020-01-30T08:49:58.231962Z"
    }
   },
   "source": [
    "**TASK:** check the type of 'A'"
   ]
  },
  {
   "cell_type": "code",
   "execution_count": 17,
   "metadata": {},
   "outputs": [
    {
     "data": {
      "text/plain": [
       "numpy.ndarray"
      ]
     },
     "execution_count": 17,
     "metadata": {},
     "output_type": "execute_result"
    }
   ],
   "source": [
    "type(A)"
   ]
  },
  {
   "cell_type": "markdown",
   "metadata": {
    "ExecuteTime": {
     "end_time": "2020-01-30T08:49:58.780503Z",
     "start_time": "2020-01-30T08:49:58.771843Z"
    }
   },
   "source": [
    "**TASK:**  check the shape of 'x'\n"
   ]
  },
  {
   "cell_type": "code",
   "execution_count": 18,
   "metadata": {},
   "outputs": [
    {
     "data": {
      "text/plain": [
       "(3,)"
      ]
     },
     "execution_count": 18,
     "metadata": {},
     "output_type": "execute_result"
    }
   ],
   "source": [
    "x.shape"
   ]
  },
  {
   "cell_type": "markdown",
   "metadata": {
    "ExecuteTime": {
     "end_time": "2020-01-30T08:49:59.209544Z",
     "start_time": "2020-01-30T08:49:59.197955Z"
    }
   },
   "source": [
    "**TASK:** check the type of 'A'"
   ]
  },
  {
   "cell_type": "code",
   "execution_count": 19,
   "metadata": {},
   "outputs": [
    {
     "data": {
      "text/plain": [
       "(2, 2)"
      ]
     },
     "execution_count": 19,
     "metadata": {},
     "output_type": "execute_result"
    }
   ],
   "source": [
    "A.shape"
   ]
  },
  {
   "cell_type": "markdown",
   "metadata": {},
   "source": [
    "**TASK:** "
   ]
  },
  {
   "cell_type": "code",
   "execution_count": 20,
   "metadata": {
    "ExecuteTime": {
     "end_time": "2020-01-30T08:49:59.477768Z",
     "start_time": "2020-01-30T08:49:59.472858Z"
    }
   },
   "outputs": [
    {
     "data": {
      "text/plain": [
       "\"\\nDefine function 'have_same_shape' which checks if two arrays have same shape.\\n\\nPARAMS:\\n    array_1 (numpy.ndarray) - first array\\n    array_2 (numpy.ndarray) - second array\\nRETURN:\\n    True - if arrays have same shape\\n    False - if arrays do not have same shape\\n\\nAlso print 'Arrays must have same shape!' when returning False\\n\""
      ]
     },
     "execution_count": 20,
     "metadata": {},
     "output_type": "execute_result"
    }
   ],
   "source": [
    "\"\"\"\n",
    "Define function 'have_same_shape' which checks if two arrays have same shape.\n",
    "\n",
    "PARAMS:\n",
    "    array_1 (numpy.ndarray) - first array\n",
    "    array_2 (numpy.ndarray) - second array\n",
    "RETURN:\n",
    "    True - if arrays have same shape\n",
    "    False - if arrays do not have same shape\n",
    "\n",
    "Also print 'Arrays must have same shape!' when returning False\n",
    "\"\"\""
   ]
  },
  {
   "cell_type": "code",
   "execution_count": 21,
   "metadata": {},
   "outputs": [],
   "source": [
    "def have_same_shape(A,B):\n",
    "    if A.shape == B.shape:\n",
    "        return True\n",
    "    else:\n",
    "        return False"
   ]
  },
  {
   "cell_type": "markdown",
   "metadata": {
    "ExecuteTime": {
     "end_time": "2020-01-30T08:49:59.773624Z",
     "start_time": "2020-01-30T08:49:59.764633Z"
    }
   },
   "source": [
    "**TASK:** call the function 'have_same_shape' with matrix 'A' and vector 'x' as inputs"
   ]
  },
  {
   "cell_type": "code",
   "execution_count": 22,
   "metadata": {},
   "outputs": [
    {
     "data": {
      "text/plain": [
       "False"
      ]
     },
     "execution_count": 22,
     "metadata": {},
     "output_type": "execute_result"
    }
   ],
   "source": [
    "have_same_shape(A,x)"
   ]
  },
  {
   "cell_type": "markdown",
   "metadata": {
    "ExecuteTime": {
     "end_time": "2020-01-30T08:50:00.108597Z",
     "start_time": "2020-01-30T08:50:00.099924Z"
    }
   },
   "source": [
    "**TASK:**  call the function 'have_same_shape' with matrix 'A' and matrix 'B' as inputs"
   ]
  },
  {
   "cell_type": "code",
   "execution_count": 23,
   "metadata": {},
   "outputs": [
    {
     "data": {
      "text/plain": [
       "True"
      ]
     },
     "execution_count": 23,
     "metadata": {},
     "output_type": "execute_result"
    }
   ],
   "source": [
    "have_same_shape(A,B)"
   ]
  },
  {
   "cell_type": "markdown",
   "metadata": {},
   "source": [
    "**TASK:** "
   ]
  },
  {
   "cell_type": "code",
   "execution_count": null,
   "metadata": {
    "ExecuteTime": {
     "end_time": "2020-01-30T08:50:00.453186Z",
     "start_time": "2020-01-30T08:50:00.445491Z"
    }
   },
   "outputs": [],
   "source": [
    "\"\"\"\n",
    "Define function 'matrix_addition' which perform matrix addition value by value.\n",
    "\n",
    "PARAMS:\n",
    "    A (numpy.ndarray) - first array\n",
    "    B (numpy.ndarray) - second array\n",
    "RETURN:\n",
    "    C (numpy.ndarray) - new A+B array\n",
    "\n",
    "In this task do not consider broadcasting.\n",
    "Do not forget to check arrays shapes (you can use 'have_same_shape' function defined before)\n",
    "\n",
    "\"\"\"\n"
   ]
  },
  {
   "cell_type": "code",
   "execution_count": 26,
   "metadata": {},
   "outputs": [],
   "source": [
    "def matrix_adition(A,B):\n",
    "    if(have_same_shape(A,B)):\n",
    "        return A + B\n",
    "    else:\n",
    "        return null"
   ]
  },
  {
   "cell_type": "markdown",
   "metadata": {
    "ExecuteTime": {
     "end_time": "2020-01-30T08:50:00.926629Z",
     "start_time": "2020-01-30T08:50:00.914790Z"
    }
   },
   "source": [
    "**TASK:** call the function 'matrix_addition' with matrix 'A' and matrix 'B' as inputs"
   ]
  },
  {
   "cell_type": "code",
   "execution_count": 27,
   "metadata": {},
   "outputs": [
    {
     "data": {
      "text/plain": [
       "array([[ 2, 10],\n",
       "       [ 8, 12]])"
      ]
     },
     "execution_count": 27,
     "metadata": {},
     "output_type": "execute_result"
    }
   ],
   "source": [
    "matrix_adition(A,B)"
   ]
  },
  {
   "cell_type": "markdown",
   "metadata": {},
   "source": [
    "**TASK:** "
   ]
  },
  {
   "cell_type": "code",
   "execution_count": 1,
   "metadata": {
    "ExecuteTime": {
     "end_time": "2020-01-30T08:50:01.238605Z",
     "start_time": "2020-01-30T08:50:01.231201Z"
    },
    "collapsed": true,
    "jupyter": {
     "outputs_hidden": true
    }
   },
   "outputs": [
    {
     "data": {
      "text/plain": [
       "\"\\nDefine 'multiple_matrix_adition' function that takes list of arrays as the input and perform array addition\\n\\nPARAMS:\\n   lst_of_arr (list) - list of numpy.ndarrays\\nRETURN:\\n    NEW_ARRAY (numpy.ndarray) - new array\\n\\nUse 'matrix_addition' function defined before.\\n\""
      ]
     },
     "execution_count": 1,
     "metadata": {},
     "output_type": "execute_result"
    }
   ],
   "source": [
    "\"\"\"\n",
    "Define 'multiple_matrix_adition' function that takes list of arrays as the input and perform array addition\n",
    "\n",
    "PARAMS:\n",
    "   lst_of_arr (list) - list of numpy.ndarrays\n",
    "RETURN:\n",
    "    NEW_ARRAY (numpy.ndarray) - new array\n",
    "\n",
    "Use 'matrix_addition' function defined before.\n",
    "\"\"\""
   ]
  },
  {
   "cell_type": "code",
   "execution_count": 39,
   "metadata": {},
   "outputs": [],
   "source": [
    "def multiple_matrix_addition(list):\n",
    "    addition = np.array([])\n",
    "    for array in list:\n",
    "        if addition.size == 0:\n",
    "            addition = array\n",
    "        else:\n",
    "            addition = matrix_adition(addition, array)\n",
    "    return addition\n",
    "    "
   ]
  },
  {
   "cell_type": "markdown",
   "metadata": {
    "ExecuteTime": {
     "end_time": "2020-01-30T08:50:01.515057Z",
     "start_time": "2020-01-30T08:50:01.506002Z"
    }
   },
   "source": [
    "**TASK:** call the function 'multiple_matrix_addition' with matrix [A,A,B,B,B] as input\n"
   ]
  },
  {
   "cell_type": "code",
   "execution_count": 40,
   "metadata": {},
   "outputs": [
    {
     "data": {
      "text/plain": [
       "array([[ 4, 20],\n",
       "       [16, 24]])"
      ]
     },
     "execution_count": 40,
     "metadata": {},
     "output_type": "execute_result"
    }
   ],
   "source": [
    "multiple_matrix_addition([A,A,B,B])"
   ]
  },
  {
   "cell_type": "markdown",
   "metadata": {},
   "source": [
    "**TASK:** "
   ]
  },
  {
   "cell_type": "code",
   "execution_count": null,
   "metadata": {
    "ExecuteTime": {
     "end_time": "2020-01-30T08:50:01.934418Z",
     "start_time": "2020-01-30T08:50:01.921444Z"
    }
   },
   "outputs": [],
   "source": [
    "\"\"\"\n",
    "Define function 'can_multiply' that checks if two arrays (matrices) can be multiplied\n",
    "\n",
    "PARAMS:\n",
    "   array_a (numpy.ndarray) - first array\n",
    "   array_b (numpy.ndarray) - second array\n",
    "RETURN:\n",
    "    True - if arrays can be multiplied, also print the shape of the new array\n",
    "    False - if arrays can not be multiplied, also print 'Matrices can not be multiplied.'\n",
    "    \n",
    "\"\"\""
   ]
  },
  {
   "cell_type": "code",
   "execution_count": 56,
   "metadata": {},
   "outputs": [],
   "source": [
    "def can_multiply(A,B):\n",
    "    if A.shape[1] == B.shape[0]:\n",
    "        print(\"({},{})\".format(A.shape[1],B.shape[0]))\n",
    "        return True\n",
    "    else:\n",
    "        print(\"Matrices can not be multiplied.\")\n",
    "        return False"
   ]
  },
  {
   "cell_type": "markdown",
   "metadata": {
    "ExecuteTime": {
     "end_time": "2020-01-30T08:50:02.291084Z",
     "start_time": "2020-01-30T08:50:02.280835Z"
    }
   },
   "source": [
    "**TASK:** call the function 'can_multiply' with matrix 'A' and 'B' as inputs"
   ]
  },
  {
   "cell_type": "code",
   "execution_count": 57,
   "metadata": {},
   "outputs": [
    {
     "name": "stdout",
     "output_type": "stream",
     "text": [
      "(2,2)\n"
     ]
    },
    {
     "data": {
      "text/plain": [
       "True"
      ]
     },
     "execution_count": 57,
     "metadata": {},
     "output_type": "execute_result"
    }
   ],
   "source": [
    "can_multiply(A,B)"
   ]
  },
  {
   "cell_type": "markdown",
   "metadata": {
    "ExecuteTime": {
     "end_time": "2020-01-30T08:50:02.590166Z",
     "start_time": "2020-01-30T08:50:02.583812Z"
    }
   },
   "source": [
    "**TASK:**  define matrix (3 x 2) matrix C"
   ]
  },
  {
   "cell_type": "code",
   "execution_count": 58,
   "metadata": {},
   "outputs": [],
   "source": [
    "C = np.array([[2,1],[4,8],[4,7]])"
   ]
  },
  {
   "cell_type": "markdown",
   "metadata": {
    "ExecuteTime": {
     "end_time": "2020-01-30T08:50:02.853507Z",
     "start_time": "2020-01-30T08:50:02.841481Z"
    }
   },
   "source": [
    "**TASK:**  call the function 'can_multiply' with matrix 'A' and 'C' as inputs"
   ]
  },
  {
   "cell_type": "code",
   "execution_count": 59,
   "metadata": {},
   "outputs": [
    {
     "name": "stdout",
     "output_type": "stream",
     "text": [
      "Matrices can not be multiplied.\n"
     ]
    },
    {
     "data": {
      "text/plain": [
       "False"
      ]
     },
     "execution_count": 59,
     "metadata": {},
     "output_type": "execute_result"
    }
   ],
   "source": [
    "can_multiply(A,C)"
   ]
  },
  {
   "cell_type": "markdown",
   "metadata": {
    "ExecuteTime": {
     "end_time": "2020-01-30T08:50:03.194987Z",
     "start_time": "2020-01-30T08:50:03.188313Z"
    }
   },
   "source": [
    "**TASK:**  call the function 'can_multiply' with matrix 'C' and 'A' as inputs (now C,A not A,C). Do you know why is the result different?"
   ]
  },
  {
   "cell_type": "code",
   "execution_count": 60,
   "metadata": {},
   "outputs": [
    {
     "name": "stdout",
     "output_type": "stream",
     "text": [
      "(2,2)\n"
     ]
    },
    {
     "data": {
      "text/plain": [
       "True"
      ]
     },
     "execution_count": 60,
     "metadata": {},
     "output_type": "execute_result"
    }
   ],
   "source": [
    "can_multiply(C,A)"
   ]
  },
  {
   "cell_type": "markdown",
   "metadata": {},
   "source": [
    "**TASK:** "
   ]
  },
  {
   "cell_type": "code",
   "execution_count": 61,
   "metadata": {
    "ExecuteTime": {
     "end_time": "2020-01-30T08:50:03.460761Z",
     "start_time": "2020-01-30T08:50:03.453042Z"
    }
   },
   "outputs": [
    {
     "data": {
      "text/plain": [
       "\"\\nDefine function 'matrix_multiplication' that multiply two numpy.ndarrays\\n\\nPARAMS:\\n   array_a (numpy.ndarray) - first array\\n   array_b (numpy.ndarray) - second array\\nRETURN:\\n    NEW_ARRAY (numpy.ndarray) - new A * B array\\n    \\nDo not forget to check if two matrices can be multiplied.\\n\\n\""
      ]
     },
     "execution_count": 61,
     "metadata": {},
     "output_type": "execute_result"
    }
   ],
   "source": [
    "\"\"\"\n",
    "Define function 'matrix_multiplication' that multiply two numpy.ndarrays\n",
    "\n",
    "PARAMS:\n",
    "   array_a (numpy.ndarray) - first array\n",
    "   array_b (numpy.ndarray) - second array\n",
    "RETURN:\n",
    "    NEW_ARRAY (numpy.ndarray) - new A * B array\n",
    "    \n",
    "Do not forget to check if two matrices can be multiplied.\n",
    "\n",
    "\"\"\""
   ]
  },
  {
   "cell_type": "code",
   "execution_count": 62,
   "metadata": {},
   "outputs": [],
   "source": [
    "def matrix_multiplication(A,B):\n",
    "    if can_multiply(A,B):\n",
    "        return A.dot(B)\n",
    "    else:\n",
    "        return False"
   ]
  },
  {
   "cell_type": "markdown",
   "metadata": {
    "ExecuteTime": {
     "end_time": "2020-01-30T08:50:03.899011Z",
     "start_time": "2020-01-30T08:50:03.886562Z"
    }
   },
   "source": [
    "**TASK:**  call the function 'matrix_multiplication' with matrix 'C' and 'B' \n"
   ]
  },
  {
   "cell_type": "code",
   "execution_count": 63,
   "metadata": {},
   "outputs": [
    {
     "name": "stdout",
     "output_type": "stream",
     "text": [
      "(2,2)\n"
     ]
    },
    {
     "data": {
      "text/plain": [
       "array([[ 7, 24],\n",
       "       [44, 96],\n",
       "       [39, 88]])"
      ]
     },
     "execution_count": 63,
     "metadata": {},
     "output_type": "execute_result"
    }
   ],
   "source": [
    "matrix_multiplication(C,B)"
   ]
  },
  {
   "cell_type": "markdown",
   "metadata": {
    "ExecuteTime": {
     "end_time": "2020-01-30T08:50:04.265728Z",
     "start_time": "2020-01-30T08:50:04.258942Z"
    }
   },
   "source": [
    "**TASK:** call the function 'matrix_multiplication' with matrix 'A' and 'C' "
   ]
  },
  {
   "cell_type": "code",
   "execution_count": 64,
   "metadata": {},
   "outputs": [
    {
     "name": "stdout",
     "output_type": "stream",
     "text": [
      "Matrices can not be multiplied.\n"
     ]
    },
    {
     "data": {
      "text/plain": [
       "False"
      ]
     },
     "execution_count": 64,
     "metadata": {},
     "output_type": "execute_result"
    }
   ],
   "source": [
    "matrix_multiplication(A,C)"
   ]
  }
 ],
 "metadata": {
  "kernelspec": {
   "display_name": "Python 3",
   "language": "python",
   "name": "python3"
  },
  "language_info": {
   "codemirror_mode": {
    "name": "ipython",
    "version": 3
   },
   "file_extension": ".py",
   "mimetype": "text/x-python",
   "name": "python",
   "nbconvert_exporter": "python",
   "pygments_lexer": "ipython3",
   "version": "3.8.5"
  },
  "toc": {
   "base_numbering": 1,
   "nav_menu": {},
   "number_sections": true,
   "sideBar": true,
   "skip_h1_title": false,
   "title_cell": "Table of Contents",
   "title_sidebar": "Contents",
   "toc_cell": false,
   "toc_position": {},
   "toc_section_display": true,
   "toc_window_display": true
  },
  "varInspector": {
   "cols": {
    "lenName": 16,
    "lenType": 16,
    "lenVar": 40
   },
   "kernels_config": {
    "python": {
     "delete_cmd_postfix": "",
     "delete_cmd_prefix": "del ",
     "library": "var_list.py",
     "varRefreshCmd": "print(var_dic_list())"
    },
    "r": {
     "delete_cmd_postfix": ") ",
     "delete_cmd_prefix": "rm(",
     "library": "var_list.r",
     "varRefreshCmd": "cat(var_dic_list()) "
    }
   },
   "types_to_exclude": [
    "module",
    "function",
    "builtin_function_or_method",
    "instance",
    "_Feature"
   ],
   "window_display": false
  }
 },
 "nbformat": 4,
 "nbformat_minor": 4
}
